{
 "cells": [
  {
   "cell_type": "markdown",
   "id": "a877381a-9696-4dd8-a9a0-050bfdd0ee4e",
   "metadata": {},
   "source": [
    "# Assignment 1"
   ]
  },
  {
   "cell_type": "markdown",
   "id": "acb663a6-ea31-41fc-bb0c-5fe8e61e6268",
   "metadata": {},
   "source": [
    "## Question 1"
   ]
  },
  {
   "cell_type": "markdown",
   "id": "3e0fbc5e-005d-41d9-99eb-1cceffbec9b9",
   "metadata": {},
   "source": [
    "### Securing your AI data pipeline with MLOps   "
   ]
  },
  {
   "cell_type": "markdown",
   "id": "ce7508c1-4a2f-478e-83c6-31a4e1242ac9",
   "metadata": {},
   "source": [
    "*By Colin Priest | Posted on 12th Sep*"
   ]
  },
  {
   "cell_type": "markdown",
   "id": "867dae79-9630-4755-903d-c2a06fda40a5",
   "metadata": {},
   "source": [
    "![Blog Image](https://www.datasciencecentral.com/wp-content/uploads/2023/09/AdobeStock_612366399-scaled.jpeg)\n"
   ]
  },
  {
   "cell_type": "markdown",
   "id": "0d5aac45-995d-4070-88af-f1be85f26325",
   "metadata": {},
   "source": [
    "Link: https://www.datasciencecentral.com/securing-your-ai-data-pipeline-with-mlops/"
   ]
  },
  {
   "cell_type": "markdown",
   "id": "e088c5cc-4fe0-46eb-bf20-7a128799683b",
   "metadata": {},
   "source": [
    "As the AI ecosystem evolves, enterprises are facing an intricate challenge: crafting robust AI data pipelines that prioritize security, efficiency, and governance. The existing quagmire of spaghetti code, coupled with the risky integration of AI-generated code, underscores a need for change. By embracing industrialized code and embedding stringent governance measures, businesses can navigate the complex AI landscape with increased confidence. In focusing on these foundational aspects, enterprises can not only ensure the effectiveness of their AI systems, but also safeguard their operations against potential threats, allowing AI to be both valuable and secure."
   ]
  },
  {
   "cell_type": "markdown",
   "id": "4a79d7c7-ff31-41a6-a555-bd8e4aa0da3c",
   "metadata": {},
   "source": [
    "## Question 2"
   ]
  },
  {
   "cell_type": "markdown",
   "id": "60da6b23-8977-48f5-aa2c-ee0608791158",
   "metadata": {},
   "source": [
    "> \"A rose by any other name would smell as sweet.\"\n",
    ">\n",
    "> *Romeo and Juliet  --  William Shakespeare*"
   ]
  },
  {
   "cell_type": "markdown",
   "id": "3d54f58c-031b-400b-a548-948ff88766cd",
   "metadata": {},
   "source": [
    "## Question 3"
   ]
  },
  {
   "cell_type": "code",
   "execution_count": 2,
   "id": "050cb8c7-45b6-4c0d-846d-6822cba441d1",
   "metadata": {},
   "outputs": [],
   "source": [
    "import numpy as np\n",
    "import matplotlib.pyplot as plt"
   ]
  },
  {
   "cell_type": "code",
   "execution_count": 3,
   "id": "2b8adb55-17f2-4c45-af07-e27f3fc2d90b",
   "metadata": {},
   "outputs": [],
   "source": [
    "x = np.arange(0, 1001) \n",
    "y = x**2"
   ]
  },
  {
   "cell_type": "code",
   "execution_count": 8,
   "id": "dcae53e6-0195-4df1-8396-4c8414aab4fa",
   "metadata": {},
   "outputs": [
    {
     "data": {
      "text/plain": [
       "Text(0, 0.5, 'y')"
      ]
     },
     "execution_count": 8,
     "metadata": {},
     "output_type": "execute_result"
    },
    {
     "data": {
      "image/png": "[encoded data removed]",
      "text/plain": [
       "<Figure size 640x480 with 1 Axes>"
      ]
     },
     "metadata": {},
     "output_type": "display_data"
    }
   ],
   "source": [
    "plt.plot(x, y, label='y = x^2', color='blue')\n",
    "plt.xlabel('x')\n",
    "plt.ylabel('y') "
   ]
  },
  {
   "cell_type": "markdown",
   "id": "9ac8e709-11e7-4d1a-bfa9-6999826fd7fd",
   "metadata": {},
   "source": [
    "## Question 4"
   ]
  },
  {
   "cell_type": "markdown",
   "id": "dc6d8375-050a-461e-a0c1-76e869716620",
   "metadata": {},
   "source": [
    "| Python Packages | Number of github stars  |\n",
    "|----------|----------|\n",
    "| Pandas | 37.9k |\n",
    "| Numpy | 24.5k |\n",
    "| Matplotlib | 18.1k |\n",
    "| Scikit-Learn | 55.8k |\n",
    "| Requests | 50.2k |\n",
    "\n"
   ]
  },
  {
   "cell_type": "markdown",
   "id": "f5a1503e-a33c-4fc5-8aff-8e1e5d8cd1df",
   "metadata": {},
   "source": [
    "## Question 5\n"
   ]
  },
  {
   "cell_type": "code",
   "execution_count": 9,
   "id": "5a77b89f-a4e0-466c-aefb-d66a92e9a497",
   "metadata": {},
   "outputs": [
    {
     "name": "stdout",
     "output_type": "stream",
     "text": [
      "/Users/mcbookpro/hw1/hw1\n"
     ]
    }
   ],
   "source": [
    "!pwd"
   ]
  },
  {
   "cell_type": "markdown",
   "id": "b03eca18-7b0c-4fc7-8a42-23f32a1e3dea",
   "metadata": {},
   "source": [
    "## Question 6"
   ]
  },
  {
   "cell_type": "code",
   "execution_count": 13,
   "id": "06e11087-53f8-4a91-b999-6b75cdb2424c",
   "metadata": {},
   "outputs": [
    {
     "ename": "ModuleNotFoundError",
     "evalue": "No module named 'External_Script'",
     "output_type": "error",
     "traceback": [
      "\u001b[0;31m---------------------------------------------------------------------------\u001b[0m",
      "\u001b[0;31mModuleNotFoundError\u001b[0m                       Traceback (most recent call last)",
      "Cell \u001b[0;32mIn[13], line 1\u001b[0m\n\u001b[0;32m----> 1\u001b[0m \u001b[38;5;28;01mfrom\u001b[39;00m \u001b[38;5;21;01mExternal_Script\u001b[39;00m \u001b[38;5;28;01mimport\u001b[39;00m printAnswer\n",
      "\u001b[0;31mModuleNotFoundError\u001b[0m: No module named 'External_Script'"
     ]
    }
   ],
   "source": [
    "from External_Script import printAnswer"
   ]
  },
  {
   "cell_type": "code",
   "execution_count": 14,
   "id": "f4c95ab7-bb11-4e36-8744-131a3d9c2e1c",
   "metadata": {},
   "outputs": [
    {
     "ename": "NameError",
     "evalue": "name 'printAnswer' is not defined",
     "output_type": "error",
     "traceback": [
      "\u001b[0;31m---------------------------------------------------------------------------\u001b[0m",
      "\u001b[0;31mNameError\u001b[0m                                 Traceback (most recent call last)",
      "Cell \u001b[0;32mIn[14], line 1\u001b[0m\n\u001b[0;32m----> 1\u001b[0m \u001b[43mprintAnswer\u001b[49m\n",
      "\u001b[0;31mNameError\u001b[0m: name 'printAnswer' is not defined"
     ]
    }
   ],
   "source": [
    "printAnswer"
   ]
  },
  {
   "cell_type": "code",
   "execution_count": null,
   "id": "68239a5f-e6ca-4580-ba87-5ab05799eabd",
   "metadata": {},
   "outputs": [],
   "source": []
  }
 ],
 "metadata": {
  "kernelspec": {
   "display_name": "Python 3 (ipykernel)",
   "language": "python",
   "name": "python3"
  },
  "language_info": {
   "codemirror_mode": {
    "name": "ipython",
    "version": 3
   },
   "file_extension": ".py",
   "mimetype": "text/x-python",
   "name": "python",
   "nbconvert_exporter": "python",
   "pygments_lexer": "ipython3",
   "version": "3.11.5"
  }
 },
 "nbformat": 4,
 "nbformat_minor": 5
}
