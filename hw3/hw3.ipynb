{
 "cells": [
  {
   "cell_type": "code",
   "execution_count": 8,
   "id": "3c52491e-0edf-4c95-bd8e-771c26efa425",
   "metadata": {},
   "outputs": [],
   "source": [
    "import pandas as pd\n",
    "import numpy as np"
   ]
  },
  {
   "cell_type": "markdown",
   "id": "8c6ec3b4-5fe1-485e-b5d7-84bd9ac13294",
   "metadata": {},
   "source": [
    "### Question 1 "
   ]
  },
  {
   "cell_type": "markdown",
   "id": "48c696da-9dda-4803-971b-d26c026164ae",
   "metadata": {},
   "source": [
    "#### a)"
   ]
  },
  {
   "cell_type": "code",
   "execution_count": 80,
   "id": "d3a71d83-f77a-45cc-b45c-16cd7668f3e9",
   "metadata": {},
   "outputs": [],
   "source": [
    "def cost_of_translation(num_of_words, type=\"standard\", rush=False):\n",
    "    rates = {\"standard\": 0.05, \"certified\": 0.10, \"notarized\": 0.12}\n",
    "\n",
    "    initial_cost = rates[type] * num_of_words\n",
    "    \n",
    "    if rush:\n",
    "        initial_cost *= 1.5\n",
    "    \n",
    "    return initial_cost"
   ]
  },
  {
   "cell_type": "code",
   "execution_count": 82,
   "id": "79b3b620-59b0-4c7d-ae6d-75a1f031e692",
   "metadata": {},
   "outputs": [
    {
     "name": "stdout",
     "output_type": "stream",
     "text": [
      "500.0\n"
     ]
    }
   ],
   "source": [
    "print(cost_of_translation(1000)) "
   ]
  },
  {
   "cell_type": "code",
   "execution_count": 83,
   "id": "2787caa1-c81c-4c24-8b6d-bcdc668927b4",
   "metadata": {},
   "outputs": [
    {
     "name": "stdout",
     "output_type": "stream",
     "text": [
      "150.0\n"
     ]
    }
   ],
   "source": [
    "print(cost_of_translation(1000, type=\"certified\", rush=True)) "
   ]
  },
  {
   "cell_type": "markdown",
   "id": "8462ffb5-0520-49d8-a0a9-196a37f3d58e",
   "metadata": {},
   "source": [
    "#### b)"
   ]
  },
  {
   "cell_type": "code",
   "execution_count": 12,
   "id": "e670047c-861e-4b8e-a9bc-717190b67e75",
   "metadata": {},
   "outputs": [],
   "source": [
    "def sales_tax(cost, tax_rate=0.1):\n",
    "\n",
    "    tax_cost = cost * tax_rate\n",
    "    return tax_cost"
   ]
  },
  {
   "cell_type": "code",
   "execution_count": 13,
   "id": "6259d73a-96d9-49bb-a264-5e960e03a06e",
   "metadata": {},
   "outputs": [
    {
     "data": {
      "text/plain": [
       "5.0"
      ]
     },
     "execution_count": 13,
     "metadata": {},
     "output_type": "execute_result"
    }
   ],
   "source": [
    "sales_tax(cost_of_translation(1000))"
   ]
  },
  {
   "cell_type": "markdown",
   "id": "8936d12e-0548-41a6-8be3-22c9ad134a73",
   "metadata": {},
   "source": [
    "#### c)"
   ]
  },
  {
   "cell_type": "code",
   "execution_count": 15,
   "id": "2e082c36-245f-4995-bc25-31bcea063894",
   "metadata": {},
   "outputs": [],
   "source": [
    "def sales_tax_notary(cost, tax_rate=0.1, notarized=False):\n",
    "\n",
    "    tax_cost = cost * tax_rate\n",
    "    if notarized:\n",
    "        tax_cost = 0\n",
    "        \n",
    "    return tax_cost"
   ]
  },
  {
   "cell_type": "code",
   "execution_count": 16,
   "id": "ef6c7431-e025-4761-93a3-b6ec73409295",
   "metadata": {},
   "outputs": [
    {
     "data": {
      "text/plain": [
       "0"
      ]
     },
     "execution_count": 16,
     "metadata": {},
     "output_type": "execute_result"
    }
   ],
   "source": [
    "sales_tax_notary(cost_of_translation(1000), notarized=True)"
   ]
  },
  {
   "cell_type": "markdown",
   "id": "4701dd6a-6a5e-4fbc-99e9-da523e9ad19e",
   "metadata": {},
   "source": [
    "### d)"
   ]
  },
  {
   "cell_type": "code",
   "execution_count": 84,
   "id": "648f41b0-9cd6-4e2a-8e97-ba52e4ea3d46",
   "metadata": {},
   "outputs": [],
   "source": [
    "def translation_calculator(num_of_words, type=\"standard\", rush=False, tax_rate=0.1):\n",
    "    rates = {\"standard\": 0.05, \"certified\": 0.10, \"notarized\": 0.12}\n",
    "    \n",
    "    initial_cost = rates[type] * num_of_words\n",
    "    \n",
    "    if rush:\n",
    "        initial_cost *= 1.5\n",
    "\n",
    "    tax_cost = initial_cost * tax_rate\n",
    "    if type == \"notarized\":\n",
    "        tax_cost = 0\n",
    "    \n",
    "\n",
    "    total_cost = initial_cost + tax_cost\n",
    "\n",
    "\n",
    "    print(\"Number of Words:\", num_of_words)\n",
    "    print(\"Type of translation:\", type)\n",
    "    print(\"Rush order:\", rush)\n",
    "    print(\"Rate per word:\", rates[type])\n",
    "    print(\"---------------------------\")\n",
    "    print(\"Cost of translation:\", initial_cost)\n",
    "    print(\"Sales tax:\", tax_cost)\n",
    "    print(\"---------------------------\")\n",
    "    print(\"Total cost:\", total_cost)"
   ]
  },
  {
   "cell_type": "code",
   "execution_count": 85,
   "id": "a999d866-3006-46a0-8202-609a06c52ab0",
   "metadata": {},
   "outputs": [
    {
     "name": "stdout",
     "output_type": "stream",
     "text": [
      "Number of Words: 1000\n",
      "Type of translation: standard\n",
      "Rush order: False\n",
      "Rate per word: 0.05\n",
      "---------------------------\n",
      "Cost of translation: 50.0\n",
      "Sales tax: 5.0\n",
      "---------------------------\n",
      "Total cost: 55.0\n"
     ]
    }
   ],
   "source": [
    "translation_calculator(1000)"
   ]
  },
  {
   "cell_type": "code",
   "execution_count": 86,
   "id": "addeb791-630c-4444-a54b-cc9a379c00b9",
   "metadata": {},
   "outputs": [
    {
     "name": "stdout",
     "output_type": "stream",
     "text": [
      "Number of Words: 1000\n",
      "Type of translation: notarized\n",
      "Rush order: True\n",
      "Rate per word: 0.12\n",
      "---------------------------\n",
      "Cost of translation: 180.0\n",
      "Sales tax: 0\n",
      "---------------------------\n",
      "Total cost: 180.0\n"
     ]
    }
   ],
   "source": [
    "translation_calculator(1000, type=\"notarized\", rush=True)"
   ]
  },
  {
   "cell_type": "markdown",
   "id": "6e1b9fa1-b9e1-4eb1-b77e-091509d4e847",
   "metadata": {},
   "source": [
    "### Question 2"
   ]
  },
  {
   "cell_type": "markdown",
   "id": "76a014ce-4e68-4324-8035-4d336bfa1ba1",
   "metadata": {},
   "source": [
    "#### a)"
   ]
  },
  {
   "cell_type": "code",
   "execution_count": 101,
   "id": "a6b68ee8-277a-4059-8401-702bd7589ab5",
   "metadata": {},
   "outputs": [],
   "source": [
    "def translation_calculator(num_of_words, type=\"standard\", rush=False, tax_rate=0.1):\n",
    "    rates = {\"standard\": 0.05, \"certified\": 0.10, \"notarized\": 0.12}\n",
    "    \n",
    "    if num_of_words < 0:\n",
    "        print(\"Please put in a valid number for words !\")\n",
    "    else: \n",
    "        if type == \"standard\" or type == \"certified\" or type == \"notarized\" :\n",
    "            \n",
    "            initial_cost = rates[type] * num_of_words\n",
    "            \n",
    "            if rush:\n",
    "                initial_cost *= 1.5\n",
    "                rush = \"Yes\"\n",
    "            else:\n",
    "                rush = \"No\"\n",
    "        \n",
    "            tax_cost = initial_cost * tax_rate\n",
    "            if type == \"notarized\":\n",
    "                tax_cost = 0\n",
    "                    \n",
    "            total_cost = initial_cost + tax_cost\n",
    "                \n",
    "            print(\"Number of Words:\", num_of_words)\n",
    "            print(\"Type of translation:\", type)\n",
    "            print(\"Rush order:\", rush)\n",
    "            print(\"Rate per word:\", rates[type])\n",
    "            print(\"---------------------------\")\n",
    "            print(\"Cost of translation:\", initial_cost)\n",
    "            print(\"Sales tax:\", tax_cost)\n",
    "            print(\"---------------------------\")\n",
    "            print(\"Total cost:\", total_cost)\n",
    "            \n",
    "        else:\n",
    "             print(\"Please choose the correct type of translation !\")"
   ]
  },
  {
   "cell_type": "code",
   "execution_count": 104,
   "id": "a5e3b7f3-2d8c-4b63-a195-be6ccb428172",
   "metadata": {},
   "outputs": [
    {
     "name": "stdout",
     "output_type": "stream",
     "text": [
      "Number of Words: 1000\n",
      "Type of translation: standard\n",
      "Rush order: False\n",
      "Rate per word: 0.05\n",
      "---------------------------\n",
      "Cost of translation: 50.0\n",
      "Sales tax: 5.0\n",
      "---------------------------\n",
      "Total cost: 55.0\n"
     ]
    }
   ],
   "source": [
    "translation_calculator(1000)"
   ]
  },
  {
   "cell_type": "markdown",
   "id": "3b6c60f0-8828-4f94-a004-2889a74a88ad",
   "metadata": {},
   "source": [
    "#### b)"
   ]
  },
  {
   "cell_type": "code",
   "execution_count": 98,
   "id": "a417ef6f-3450-42fa-9a96-173d2a660f85",
   "metadata": {},
   "outputs": [],
   "source": [
    "def translation_calculator_1(num_of_words,type = 'standard',rush = False, tax_rate = 0.1, notarized = False):\n",
    "    rates = {\"standard\": 0.05, \"certified\": 0.10, \"notarized\": 0.12}\n",
    "    try:\n",
    "        if (num_of_words <= 0) or (type not in rates):\n",
    "            raise Exception ()\n",
    "        initial_cost = rates[type] * num_of_words\n",
    "            \n",
    "        if rush:\n",
    "            initial_cost *= 1.5\n",
    "        \n",
    "        tax_cost = initial_cost * tax_rate\n",
    "        if type == \"notarized\":\n",
    "            tax_cost = 0\n",
    "                    \n",
    "        total_cost = initial_cost + tax_cost\n",
    "                \n",
    "        print(\"Number of Words:\", num_of_words)\n",
    "        print(\"Type of translation:\", type)\n",
    "        print(\"Rush order:\", rush)\n",
    "        print(\"Rate per word:\", rates[type])\n",
    "        print(\"---------------------------\")\n",
    "        print(\"Cost of translation:\", initial_cost)\n",
    "        print(\"Sales tax:\", tax_cost)\n",
    "        print(\"---------------------------\")\n",
    "        print(\"Total cost:\", total_cost)\n",
    "    except:\n",
    "        print(\"Please check your input values.\")"
   ]
  },
  {
   "cell_type": "code",
   "execution_count": 99,
   "id": "8858f27e-b283-4bf0-ba43-ad0e1e7f2c63",
   "metadata": {},
   "outputs": [
    {
     "name": "stdout",
     "output_type": "stream",
     "text": [
      "Please check your input values.\n"
     ]
    }
   ],
   "source": [
    "translation_calculator_1(-100)"
   ]
  },
  {
   "cell_type": "code",
   "execution_count": 100,
   "id": "24628f2d-6858-495b-8581-585184b1c3b8",
   "metadata": {},
   "outputs": [
    {
     "name": "stdout",
     "output_type": "stream",
     "text": [
      "Please check your input values.\n"
     ]
    }
   ],
   "source": [
    "translation_calculator_1(100, type=\"standad\")"
   ]
  },
  {
   "cell_type": "code",
   "execution_count": null,
   "id": "b2eede94-bbe2-4ffc-85f0-34f25c31759b",
   "metadata": {},
   "outputs": [],
   "source": []
  }
 ],
 "metadata": {
  "kernelspec": {
   "display_name": "Python 3 (ipykernel)",
   "language": "python",
   "name": "python3"
  },
  "language_info": {
   "codemirror_mode": {
    "name": "ipython",
    "version": 3
   },
   "file_extension": ".py",
   "mimetype": "text/x-python",
   "name": "python",
   "nbconvert_exporter": "python",
   "pygments_lexer": "ipython3",
   "version": "3.11.5"
  }
 },
 "nbformat": 4,
 "nbformat_minor": 5
}
