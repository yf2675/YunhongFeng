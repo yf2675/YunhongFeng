{
 "cells": [
  {
   "cell_type": "code",
   "execution_count": 1,
   "id": "b70dfee2-44b0-41c5-a33e-bf9218d5bf2e",
   "metadata": {},
   "outputs": [],
   "source": [
    "import pandas as pd"
   ]
  },
  {
   "cell_type": "markdown",
   "id": "a4756f5f-4dd5-4090-bbfb-6c3881d2debf",
   "metadata": {},
   "source": [
    "### QUESTION 1"
   ]
  },
  {
   "cell_type": "markdown",
   "id": "fb47a893-5e2c-4d05-a29f-c063dd31010b",
   "metadata": {},
   "source": [
    "#### a"
   ]
  },
  {
   "cell_type": "code",
   "execution_count": 26,
   "id": "d4a874e1-fec8-4a94-aaf9-7f22b4b31481",
   "metadata": {},
   "outputs": [],
   "source": [
    "class Campground:\n",
    "    def __init__(self, name, park, capacity):\n",
    "        self.name = name\n",
    "        self.park = park\n",
    "        self.capacity = capacity"
   ]
  },
  {
   "cell_type": "markdown",
   "id": "8dc5158e-aa05-4bbb-9334-de894c31eb7a",
   "metadata": {},
   "source": [
    "#### b"
   ]
  },
  {
   "cell_type": "code",
   "execution_count": 27,
   "id": "a6376826-44eb-4153-aa98-730c9b968c2e",
   "metadata": {},
   "outputs": [],
   "source": [
    "class Campground:\n",
    "    def __init__(self, name, park, capacity):\n",
    "        self.name = name\n",
    "        self.park = park\n",
    "        self.capacity = capacity\n",
    "\n",
    "    def __str__(self):\n",
    "        return self.name + \" Campground in \" + self.park + \" has a capacity of \" + str(self.capacity)"
   ]
  },
  {
   "cell_type": "code",
   "execution_count": 28,
   "id": "96e0528a-9cb4-4e6f-8a9d-cc8788163019",
   "metadata": {},
   "outputs": [
    {
     "name": "stdout",
     "output_type": "stream",
     "text": [
      "NY Campground in National park A has a capacity of 5000\n"
     ]
    }
   ],
   "source": [
    "c1 = Campground(\"NY\",\"National park A\", 5000)\n",
    "print(c1)"
   ]
  },
  {
   "cell_type": "markdown",
   "id": "4606f3ec-6a7c-4d05-950d-1f8815f30b00",
   "metadata": {},
   "source": [
    "#### c"
   ]
  },
  {
   "cell_type": "code",
   "execution_count": 29,
   "id": "907e5025-3768-4d27-950f-26b9042c7366",
   "metadata": {},
   "outputs": [],
   "source": [
    "campgrounds_data = [\n",
    "    {\"name\": \"Bear Creek\", \"park\": \"Yellowstone\", \"capacity\": 50},\n",
    "    {\"name\": \"Eagle Nest\", \"park\": \"Yosemite\", \"capacity\": 30},\n",
    "    {\"name\": \"Deer Run\", \"park\": \"Grand Canyon\", \"capacity\": 40},\n",
    "    {\"name\": \"Wolf Den\", \"park\": \"Yellowstone\", \"capacity\": 20},\n",
    "    {\"name\": \"Rabbit Hole\", \"park\": \"Yosemite\", \"capacity\": 15},\n",
    "    {\"name\": \"Buffalo Range\", \"park\": \"Grand Canyon\", \"capacity\": 60},\n",
    "    {\"name\": \"Falcon Crest\", \"park\": \"Yellowstone\", \"capacity\": 25},\n",
    "    {\"name\": \"Turtle Beach\", \"park\": \"Yosemite\", \"capacity\": 35}\n",
    "    ]"
   ]
  },
  {
   "cell_type": "code",
   "execution_count": 51,
   "id": "f16397d1-da39-4463-8004-2f6b8bf0a7fb",
   "metadata": {},
   "outputs": [
    {
     "name": "stdout",
     "output_type": "stream",
     "text": [
      "Bear Creek Campground in Yellowstone has a capacity of 50\n",
      "Eagle Nest Campground in Yosemite has a capacity of 30\n",
      "Deer Run Campground in Grand Canyon has a capacity of 40\n",
      "Wolf Den Campground in Yellowstone has a capacity of 20\n",
      "Rabbit Hole Campground in Yosemite has a capacity of 15\n",
      "Buffalo Range Campground in Grand Canyon has a capacity of 60\n",
      "Falcon Crest Campground in Yellowstone has a capacity of 25\n",
      "Turtle Beach Campground in Yosemite has a capacity of 35\n"
     ]
    }
   ],
   "source": [
    "for data in campgrounds_data:\n",
    "    campground = Campground(data[\"name\"], data[\"park\"], data[\"capacity\"])\n",
    "    print(str(campground))"
   ]
  },
  {
   "cell_type": "code",
   "execution_count": 31,
   "id": "caeab34b-6168-4a71-9308-c7d6612da58b",
   "metadata": {},
   "outputs": [],
   "source": [
    "class Campground:\n",
    "    def __init__(self, name, park, capacity):\n",
    "        self.name = name\n",
    "        self.park = park\n",
    "        self.capacity = capacity\n",
    "\n",
    "    def __str__(self):\n",
    "        return self.name + \" Campground in \" + self.park + \" has a capacity of \" + str(self.capacity)\n",
    "\n",
    "    def add_capacity(self, spots):\n",
    "            self.capacity += spots\n",
    "\n",
    "    def remove_capacity(self, spots):\n",
    "        if spots < 0:\n",
    "            print(\"Capacity cannot be decreased below 0.\")\n",
    "        elif self.capacity - spots < 0:\n",
    "            print(\"Warning: Capacity cannot be decreased below 0.\")\n",
    "            self.capacity = 0\n",
    "        else:\n",
    "            self.capacity -= spots"
   ]
  },
  {
   "cell_type": "code",
   "execution_count": 33,
   "id": "f811fc90-0b95-428f-aa0f-eeb5979addbc",
   "metadata": {},
   "outputs": [
    {
     "name": "stdout",
     "output_type": "stream",
     "text": [
      "70\n"
     ]
    }
   ],
   "source": [
    "campgroundBC = Campground(\"Bear Creek\", \"Yellowstone\", 50)\n",
    "campgroundBC.add_capacity(20)\n",
    "print(campgroundBC.capacity)"
   ]
  },
  {
   "cell_type": "code",
   "execution_count": 34,
   "id": "47858c7e-f275-4ef7-88a6-4b73a8615bcf",
   "metadata": {},
   "outputs": [
    {
     "name": "stdout",
     "output_type": "stream",
     "text": [
      "Warning: Capacity cannot be decreased below 0.\n",
      "0\n"
     ]
    }
   ],
   "source": [
    "campgroundBC.remove_capacity(90)\n",
    "print(campgroundBC.capacity)"
   ]
  },
  {
   "cell_type": "markdown",
   "id": "127f800c-bc44-4595-8d98-c33a00af3a25",
   "metadata": {},
   "source": [
    "### QUESTION 2"
   ]
  },
  {
   "cell_type": "markdown",
   "id": "1331f01e-4b5d-49e9-8573-e7fa2b275440",
   "metadata": {},
   "source": [
    "#### a"
   ]
  },
  {
   "cell_type": "code",
   "execution_count": 35,
   "id": "7d39409e-7c9a-49fb-8529-dab3d7f043c2",
   "metadata": {},
   "outputs": [],
   "source": [
    "class ReservationSystem:\n",
    "    def __init__(self, campgrounds):\n",
    "        self.campgrounds = campgrounds"
   ]
  },
  {
   "cell_type": "code",
   "execution_count": 64,
   "id": "ac11fe77-f6d1-485a-a3f3-395344a9b492",
   "metadata": {},
   "outputs": [
    {
     "name": "stdout",
     "output_type": "stream",
     "text": [
      "Bear Creek Yellowstone 50\n",
      "Eagle Nest Yosemite 30\n",
      "Deer Run Grand Canyon 40\n",
      "Wolf Den Yellowstone 20\n",
      "Rabbit Hole Yosemite 15\n",
      "Buffalo Range Grand Canyon 60\n",
      "Falcon Crest Yellowstone 25\n",
      "Turtle Beach Yosemite 35\n"
     ]
    }
   ],
   "source": [
    "campground_list = [Campground(data[\"name\"], data[\"park\"], data[\"capacity\"]) for data in campgrounds_data]\n",
    "reservation_system = ReservationSystem(campground_list)\n",
    "for campground in reservation_system.campgrounds:\n",
    "    print(campground.name, campground.park, campground.capacity )"
   ]
  },
  {
   "cell_type": "markdown",
   "id": "38fd8c67-f249-4261-9c98-abefb29127ab",
   "metadata": {},
   "source": [
    "#### b"
   ]
  },
  {
   "cell_type": "code",
   "execution_count": 57,
   "id": "5758fe75-f927-46d0-bc22-ef71ecc83a4c",
   "metadata": {},
   "outputs": [],
   "source": [
    "class ReservationSystem:\n",
    "    def __init__(self, campgrounds):\n",
    "        self.campgrounds = campgrounds\n",
    "    def check_availability(self, campground_name, required_spots):\n",
    "        for campground in self.campgrounds:\n",
    "            if campground.name == campground_name:\n",
    "                if campground.capacity >= required_spots:\n",
    "                    return True \n",
    "        return False "
   ]
  },
  {
   "cell_type": "code",
   "execution_count": 60,
   "id": "d9d0b773-62ef-4b9f-a298-7faf38d895da",
   "metadata": {},
   "outputs": [
    {
     "data": {
      "text/plain": [
       "False"
      ]
     },
     "execution_count": 60,
     "metadata": {},
     "output_type": "execute_result"
    }
   ],
   "source": [
    "reservation_system.check_availability(\"Eagle Nest\", 35)"
   ]
  },
  {
   "cell_type": "markdown",
   "id": "5e80d14d-163b-4c8e-9101-8e2b8adede73",
   "metadata": {},
   "source": [
    "#### c"
   ]
  },
  {
   "cell_type": "code",
   "execution_count": 62,
   "id": "dde72ed5-f96a-4fe3-9adb-8a1e478228a2",
   "metadata": {},
   "outputs": [],
   "source": [
    "class ReservationSystem:\n",
    "    def __init__(self, campgrounds):\n",
    "        self.campgrounds = campgrounds\n",
    "    \n",
    "    def check_availability(self, campground_name, required_spots):\n",
    "        for campground in self.campgrounds:\n",
    "            if campground.name == campground_name:\n",
    "                if campground.capacity >= required_spots:\n",
    "                    return True \n",
    "        return False \n",
    "\n",
    "    def total_capacity(self, park_name):\n",
    "        total_capacity = 0\n",
    "        for campground in self.campgrounds:\n",
    "            if campground.park == park_name:\n",
    "                total_capacity += campground.capacity\n",
    "        return total_capacity"
   ]
  },
  {
   "cell_type": "code",
   "execution_count": 65,
   "id": "b9c72a2f-d767-4081-a762-a59e5c83bbd2",
   "metadata": {},
   "outputs": [
    {
     "data": {
      "text/plain": [
       "95"
      ]
     },
     "execution_count": 65,
     "metadata": {},
     "output_type": "execute_result"
    }
   ],
   "source": [
    "reservation_system.total_capacity(\"Yellowstone\")"
   ]
  }
 ],
 "metadata": {
  "kernelspec": {
   "display_name": "Python 3 (ipykernel)",
   "language": "python",
   "name": "python3"
  },
  "language_info": {
   "codemirror_mode": {
    "name": "ipython",
    "version": 3
   },
   "file_extension": ".py",
   "mimetype": "text/x-python",
   "name": "python",
   "nbconvert_exporter": "python",
   "pygments_lexer": "ipython3",
   "version": "3.11.5"
  }
 },
 "nbformat": 4,
 "nbformat_minor": 5
}
